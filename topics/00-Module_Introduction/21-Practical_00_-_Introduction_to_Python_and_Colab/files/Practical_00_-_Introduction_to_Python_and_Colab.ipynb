{
  "cells": [
    {
      "cell_type": "markdown",
      "metadata": {
        "id": "view-in-github",
        "colab_type": "text"
      },
      "source": [
        "<a href=\"https://colab.research.google.com/github/samuikrytoi/des/blob/main/topics/00-Module_Introduction/21-Practical_00_-_Introduction_to_Python_and_Colab/files/Practical_00_-_Introduction_to_Python_and_Colab.ipynb\" target=\"_parent\"><img src=\"https://colab.research.google.com/assets/colab-badge.svg\" alt=\"Open In Colab\"/></a>"
      ]
    },
    {
      "cell_type": "markdown",
      "metadata": {
        "id": "YlziAquoAECJ"
      },
      "source": [
        "# Practical 00 - Introduction to Python and Colab"
      ]
    },
    {
      "cell_type": "code",
      "source": [],
      "metadata": {
        "id": "-7eqo4h1MAhO"
      },
      "execution_count": null,
      "outputs": []
    },
    {
      "cell_type": "markdown",
      "metadata": {
        "id": "cul_Uby6AWtW"
      },
      "source": [
        "## Setup"
      ]
    },
    {
      "cell_type": "code",
      "execution_count": null,
      "metadata": {
        "id": "2fdCdvjCAKhp"
      },
      "outputs": [],
      "source": [
        "#@markdown **Please enter your following details and press Shift-Enter to save:**\n",
        "your_student_number = '20117794' #@param {type: \"string\"}\n",
        "your_name = 'David Mazanko' #@param {type: \"string\"}"
      ]
    },
    {
      "cell_type": "code",
      "execution_count": null,
      "metadata": {
        "id": "nXyD_46yAECX"
      },
      "outputs": [],
      "source": [
        "# Setup magic, do not edit this cell! Just press Shift+Enter or click on arrow at top-left\n",
        "\n",
        "import urllib.request\n",
        "content = urllib.request.urlretrieve (\"https://setu-discretemathematics.github.io/live/files/setup_practical_magic.py\")\n",
        "exec(open(content[0]).read())\n",
        "setup_practical(locals(),_ih)"
      ]
    },
    {
      "cell_type": "markdown",
      "metadata": {
        "id": "Jpw1UFRSAECd"
      },
      "source": [
        "---\n",
        "## Introduction\n",
        "\n",
        " * In this practical we will\n",
        "Introduce the Python programming language and Google's colab notebooks for interactive programming.\n",
        " * Cover the procedure used for downloading practical notebooks and for uploading completed notebooks to   [moodle](https://moodle.wit.ie/course/view.php?id=168360)"
      ]
    },
    {
      "cell_type": "markdown",
      "metadata": {
        "id": "APyrK1KiaLlF"
      },
      "source": [
        "### Mathematics Concepts\n",
        "\n",
        " * None, this practical session is all about you getting used to Python and the colab notebook."
      ]
    },
    {
      "cell_type": "markdown",
      "metadata": {
        "id": "oMMjOJB-AECe"
      },
      "source": [
        "### Python Concepts\n",
        "\n",
        " * Opening a notebook (well you are here so you have done this already).\n",
        " * Evaluating/executing cells.\n",
        " * Difference between **Code** and **Text** cells.\n",
        " * Python concepts to note:\n",
        "   * Anything on a line after the `#` character, is treated as a comment and is ignored.\n",
        "   * The spacing to the left of each line (called __indenting__) is **critical** in python (in other languages such as Processing and Java, indenting is a nice to have but is not critical). So always check for unwanted spaces to the left of a line of code (especially when you copy/paste code into a cell.\n",
        "\n",
        " ---"
      ]
    },
    {
      "cell_type": "markdown",
      "metadata": {
        "id": "NixkyB70AECf"
      },
      "source": [
        "## Using Python as a Calculator\n",
        "\n",
        "We can use python as an expensive calculator ... in each of the following exercises follow the instructions and use Shift+Enter to evaluate/run."
      ]
    },
    {
      "cell_type": "markdown",
      "metadata": {
        "id": "RViKJ35ZAECg"
      },
      "source": [
        "**Question 1** (standard arithmetic operations)\n",
        "\n",
        "Evaluate the expression:  \\\\(2+3*5\\\\)\n",
        "\n",
        "_Notes:_\n",
        "\n",
        " * The four standard arithmetic operations \\\\(+,-,*,/\\\\) and the use of parenthesis are supported in python,\n",
        " * Standard BOMDAS rules for the order of operations apply.\n",
        " * The `#` character is used to mark the start of a comment."
      ]
    },
    {
      "cell_type": "code",
      "execution_count": null,
      "metadata": {
        "code_folding": [],
        "id": "Vr4lNCZ1AECh"
      },
      "outputs": [],
      "source": [
        "# Question 1\n"
      ]
    },
    {
      "cell_type": "markdown",
      "metadata": {
        "id": "rB0IHvMEAECl"
      },
      "source": [
        "**Question 2** (powers)\n",
        "\n",
        "Evaluate the expression:  \\\\(2^{1000}\\\\).\n",
        "\n",
        "Notes:\n",
        "\n",
        " * Python supports arbitrary large numbers.\n",
        " * To get powers in python use `**`.  So while in math we \\\\(2^8\\\\), in python we write `2**8`"
      ]
    },
    {
      "cell_type": "code",
      "execution_count": null,
      "metadata": {
        "id": "gfGIkcFTAECl"
      },
      "outputs": [],
      "source": [
        "# Question 2\n"
      ]
    },
    {
      "cell_type": "markdown",
      "metadata": {
        "id": "I4fNMG-PAECp"
      },
      "source": [
        "**Question 3** (Integer division and reminder)\n",
        "\n",
        "What is the reminder when 13 is divided by 5?\n",
        "\n",
        "Notes:\n",
        "\n",
        " * The modules operator returns the reminder on division, it is written as `%` in python, and is used similar to other operatiors (such as `+`, `-` etc).  For example `11 % 4` returns `3` since 4 divides into `11` two times with remainder `3`.\n",
        " * Also, the integer division in python is written using `//` as in `13//5` returns `2`."
      ]
    },
    {
      "cell_type": "code",
      "execution_count": null,
      "metadata": {
        "id": "gBBmcL6UAECp"
      },
      "outputs": [],
      "source": [
        "# Question 3\n"
      ]
    },
    {
      "cell_type": "markdown",
      "metadata": {
        "id": "xG4zOCqhAECs"
      },
      "source": [
        "## Extra - A Python Playground\n",
        "\n",
        "In this section we will demonstrate some of the features of python and colab notebooks."
      ]
    },
    {
      "cell_type": "code",
      "execution_count": null,
      "metadata": {
        "id": "10jX7WT0jRaW"
      },
      "outputs": [],
      "source": []
    },
    {
      "cell_type": "code",
      "execution_count": null,
      "metadata": {
        "id": "bCkHoIjsjRSY"
      },
      "outputs": [],
      "source": []
    },
    {
      "cell_type": "code",
      "execution_count": null,
      "metadata": {
        "id": "Q6Rt3TOMjRMe"
      },
      "outputs": [],
      "source": []
    },
    {
      "cell_type": "code",
      "execution_count": null,
      "metadata": {
        "id": "Bx6tVHwPjREw"
      },
      "outputs": [],
      "source": []
    },
    {
      "cell_type": "code",
      "execution_count": null,
      "metadata": {
        "id": "ClIAK36GjQ_i"
      },
      "outputs": [],
      "source": []
    },
    {
      "cell_type": "code",
      "execution_count": null,
      "metadata": {
        "id": "jvrgAW2OjQ5_"
      },
      "outputs": [],
      "source": []
    },
    {
      "cell_type": "code",
      "execution_count": null,
      "metadata": {
        "id": "KLPcdP3SjQ0M"
      },
      "outputs": [],
      "source": []
    },
    {
      "cell_type": "code",
      "execution_count": null,
      "metadata": {
        "id": "YfN8P2vSjQun"
      },
      "outputs": [],
      "source": []
    },
    {
      "cell_type": "code",
      "execution_count": null,
      "metadata": {
        "id": "WRBA45s6jQqa"
      },
      "outputs": [],
      "source": []
    },
    {
      "cell_type": "code",
      "execution_count": null,
      "metadata": {
        "id": "U_Cq2KTCjQkt"
      },
      "outputs": [],
      "source": []
    },
    {
      "cell_type": "markdown",
      "metadata": {
        "id": "Yf0qhDAga8hB"
      },
      "source": [
        "---\n",
        "## Review/Feedback"
      ]
    },
    {
      "cell_type": "code",
      "execution_count": null,
      "metadata": {
        "cellView": "form",
        "id": "asLYiYS_bmrj"
      },
      "outputs": [],
      "source": [
        "#@markdown This a a short questionnaire for you to provide feedback on how you think the semester is progressing and in particular for __Discrete Mathematics__, how easy/difficult, interesting/boring, useful/confusing you find the material. By completing the following you will help us improve our delivery.<br />Please enter your feedback and click on arrow at top-left to save.\n",
        "\n",
        "#@markdown **This practical**\n",
        "\n",
        "#@markdown How difficult did you find this practical?\n",
        "practical_difficulty = 'No opinion' #@param ['No opinion', \"Too easy', 'Easy', 'About right', 'Some bits were hard but overall it was doable', 'Too difficult', 'Impossible']\n",
        "\n",
        "#@markdown Including online session time, how long (in minutes) did it take for you to finish this practical?\n",
        "practical_duration = 0 #@param {type: \"number\"}\n",
        "\n",
        "#@markdown **This week's material**\n",
        "\n",
        "#@markdown How difficult did you find each of the following this week _(0=too easy 3=easy, 5=just right, 7=a bit difficult, 10=impossible)_?\n",
        "lecture_difficulty = 0  #@param {type: \"slider\", min: 0, max: 10}\n",
        "tutorial_questions_difficulty = 0  #@param {type: \"slider\", min: 0, max: 10}\n",
        "\n",
        "#@markdown Use the line below to enter any comments &mdash; what you liked, what you did not like. Again all feedback is welcome.\n",
        "general_comment = \"\" #@param {type: \"string\"}\n"
      ]
    }
  ],
  "metadata": {
    "colab": {
      "name": "DM_P00_-_Introduction_to_Python_and_Colab.ipynb",
      "provenance": [],
      "toc_visible": true,
      "include_colab_link": true
    },
    "kernelspec": {
      "display_name": "Python 3",
      "language": "python",
      "name": "python3"
    },
    "language_info": {
      "codemirror_mode": {
        "name": "ipython",
        "version": 3
      },
      "file_extension": ".py",
      "mimetype": "text/x-python",
      "name": "python",
      "nbconvert_exporter": "python",
      "pygments_lexer": "ipython3",
      "version": "3.9.10"
    },
    "toc": {
      "toc_cell": false,
      "toc_number_sections": true,
      "toc_threshold": 6,
      "toc_window_display": false
    }
  },
  "nbformat": 4,
  "nbformat_minor": 0
}